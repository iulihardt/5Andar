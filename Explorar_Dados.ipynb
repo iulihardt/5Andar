{
 "cells": [
  {
   "cell_type": "markdown",
   "metadata": {},
   "source": [
    "# 5Andar"
   ]
  },
  {
   "cell_type": "markdown",
   "metadata": {},
   "source": [
    "## Abordagem exploratória\n",
    "### Por iuli hardt\n",
    "\n",
    "##"
   ]
  },
  {
   "cell_type": "code",
   "execution_count": 1,
   "metadata": {},
   "outputs": [],
   "source": [
    "#import libs\n",
    "import pandas as pd\n",
    "import matplotlib.pyplot as plt\n",
    "import seaborn as sns"
   ]
  },
  {
   "cell_type": "code",
   "execution_count": 2,
   "metadata": {},
   "outputs": [],
   "source": [
    "#As abas dos arquivos foram separadas por questões de facilidade de uso em LLM e reaproveitadas aqui\n",
    "media_custo = pd.read_csv(r'C:\\Users\\iulih\\Meu Drive\\Work\\PS\\QuintoAndar\\data_csv\\media_plan.csv',sep=',')\n",
    "leads_gerados = pd.read_csv(r'C:\\Users\\iulih\\Meu Drive\\Work\\PS\\QuintoAndar\\data_csv\\leads.csv',sep=',')\n",
    "operacao = pd.read_csv(r'C:\\Users\\iulih\\Meu Drive\\Work\\PS\\QuintoAndar\\data_csv\\operantions.csv',sep=',')"
   ]
  },
  {
   "cell_type": "markdown",
   "metadata": {},
   "source": [
    "Correções e transformações de STR em Float:"
   ]
  },
  {
   "cell_type": "code",
   "execution_count": 5,
   "metadata": {},
   "outputs": [],
   "source": [
    "operacao['ticket_medio'] = operacao['ticket_medio'].replace('[\\$,]', '', regex=True).astype(float)\n",
    "operacao['tenant_prospect_to_contract_signed'] = operacao['tenant_prospect_to_contract_signed'].replace('[\\%,]', '', regex=True).astype(float)"
   ]
  },
  {
   "cell_type": "code",
   "execution_count": 6,
   "metadata": {},
   "outputs": [],
   "source": [
    "media_custo['daily_cost'] = media_custo['daily_cost'].replace('[\\$,]', '', regex=True).astype(float)\n"
   ]
  },
  {
   "cell_type": "markdown",
   "metadata": {},
   "source": [
    "Agrupamento:"
   ]
  },
  {
   "cell_type": "code",
   "execution_count": 33,
   "metadata": {},
   "outputs": [],
   "source": [
    "# 1. Agrupar dados\n",
    "tabela_combinada = pd.merge(leads_gerados,media_custo, left_on=['dt_event', 'city_group'], right_on=['dt_insertion_order', 'city_group'])\n",
    "\n",
    "# 2. Calcular métricas\n",
    "metricas = tabela_combinada.groupby(['city_group']).agg({'daily_cost': 'sum', 'qualifieds': 'sum'}).reset_index()"
   ]
  },
  {
   "cell_type": "code",
   "execution_count": 41,
   "metadata": {},
   "outputs": [
    {
     "data": {
      "text/html": [
       "<div>\n",
       "<style scoped>\n",
       "    .dataframe tbody tr th:only-of-type {\n",
       "        vertical-align: middle;\n",
       "    }\n",
       "\n",
       "    .dataframe tbody tr th {\n",
       "        vertical-align: top;\n",
       "    }\n",
       "\n",
       "    .dataframe thead th {\n",
       "        text-align: right;\n",
       "    }\n",
       "</style>\n",
       "<table border=\"1\" class=\"dataframe\">\n",
       "  <thead>\n",
       "    <tr style=\"text-align: right;\">\n",
       "      <th></th>\n",
       "      <th>city_group</th>\n",
       "      <th>daily_cost</th>\n",
       "      <th>qualifieds</th>\n",
       "      <th>nbr_bairros_abertos</th>\n",
       "      <th>nbr_bairros_sem_ops</th>\n",
       "      <th>leads</th>\n",
       "      <th>leads_5a</th>\n",
       "      <th>leads_nops</th>\n",
       "      <th>contratos_assinados</th>\n",
       "      <th>tenant_prospects</th>\n",
       "      <th>tenant_prospect_to_contract_signed</th>\n",
       "      <th>ticket_medio</th>\n",
       "    </tr>\n",
       "  </thead>\n",
       "  <tbody>\n",
       "    <tr>\n",
       "      <th>4</th>\n",
       "      <td>Florianopolis</td>\n",
       "      <td>360500.06</td>\n",
       "      <td>3310.0</td>\n",
       "      <td>59</td>\n",
       "      <td>76</td>\n",
       "      <td>165986</td>\n",
       "      <td>155370</td>\n",
       "      <td>10616</td>\n",
       "      <td>771</td>\n",
       "      <td>20304</td>\n",
       "      <td>3.8</td>\n",
       "      <td>2554.0</td>\n",
       "    </tr>\n",
       "  </tbody>\n",
       "</table>\n",
       "</div>"
      ],
      "text/plain": [
       "      city_group  daily_cost  qualifieds  nbr_bairros_abertos  \\\n",
       "4  Florianopolis   360500.06      3310.0                   59   \n",
       "\n",
       "   nbr_bairros_sem_ops   leads  leads_5a  leads_nops  contratos_assinados  \\\n",
       "4                   76  165986    155370       10616                  771   \n",
       "\n",
       "   tenant_prospects  tenant_prospect_to_contract_signed  ticket_medio  \n",
       "4             20304                                 3.8        2554.0  "
      ]
     },
     "execution_count": 41,
     "metadata": {},
     "output_type": "execute_result"
    }
   ],
   "source": [
    "metricas_ops = pd.merge(metricas,operacao, on=['city_group'])\n",
    "\n",
    "metricas_ops[metricas_ops['city_group']=='Florianopolis']#.sample(3)"
   ]
  },
  {
   "cell_type": "code",
   "execution_count": 49,
   "metadata": {},
   "outputs": [],
   "source": [
    "metricas_ops['Retorno_esperado'] = metricas_ops['qualifieds'] * metricas_ops['tenant_prospect_to_contract_signed'] / 100 * metricas_ops['ticket_medio'] \n",
    "\n",
    "metricas_ops['Total_contratos_estimado'] = metricas_ops['qualifieds'] * metricas_ops['tenant_prospect_to_contract_signed'] / 100\n",
    "\n",
    "metricas_ops['ROI'] = ((metricas_ops['Retorno_esperado'] - metricas_ops['daily_cost']) / metricas_ops['daily_cost']) * 100"
   ]
  },
  {
   "cell_type": "code",
   "execution_count": 52,
   "metadata": {},
   "outputs": [],
   "source": [
    "metricas_ops_final = metricas_ops[['city_group','daily_cost','qualifieds','ticket_medio','tenant_prospect_to_contract_signed','Total_contratos_estimado','Retorno_esperado','ROI']]"
   ]
  },
  {
   "cell_type": "code",
   "execution_count": 53,
   "metadata": {},
   "outputs": [
    {
     "data": {
      "text/html": [
       "<div>\n",
       "<style scoped>\n",
       "    .dataframe tbody tr th:only-of-type {\n",
       "        vertical-align: middle;\n",
       "    }\n",
       "\n",
       "    .dataframe tbody tr th {\n",
       "        vertical-align: top;\n",
       "    }\n",
       "\n",
       "    .dataframe thead th {\n",
       "        text-align: right;\n",
       "    }\n",
       "</style>\n",
       "<table border=\"1\" class=\"dataframe\">\n",
       "  <thead>\n",
       "    <tr style=\"text-align: right;\">\n",
       "      <th></th>\n",
       "      <th>city_group</th>\n",
       "      <th>daily_cost</th>\n",
       "      <th>qualifieds</th>\n",
       "      <th>ticket_medio</th>\n",
       "      <th>tenant_prospect_to_contract_signed</th>\n",
       "      <th>Total_contratos_estimado</th>\n",
       "      <th>Retorno_esperado</th>\n",
       "      <th>ROI</th>\n",
       "    </tr>\n",
       "  </thead>\n",
       "  <tbody>\n",
       "    <tr>\n",
       "      <th>8</th>\n",
       "      <td>Sao Paulo</td>\n",
       "      <td>5939676.80</td>\n",
       "      <td>62156.0</td>\n",
       "      <td>3671.0</td>\n",
       "      <td>13.81</td>\n",
       "      <td>8583.7436</td>\n",
       "      <td>3.151092e+07</td>\n",
       "      <td>430.515781</td>\n",
       "    </tr>\n",
       "    <tr>\n",
       "      <th>0</th>\n",
       "      <td>Belo Horizonte</td>\n",
       "      <td>560335.83</td>\n",
       "      <td>8285.0</td>\n",
       "      <td>2623.0</td>\n",
       "      <td>8.38</td>\n",
       "      <td>694.2830</td>\n",
       "      <td>1.821104e+06</td>\n",
       "      <td>225.002295</td>\n",
       "    </tr>\n",
       "    <tr>\n",
       "      <th>7</th>\n",
       "      <td>Rio de Janeiro</td>\n",
       "      <td>4489481.55</td>\n",
       "      <td>29039.0</td>\n",
       "      <td>3499.0</td>\n",
       "      <td>10.65</td>\n",
       "      <td>3092.6535</td>\n",
       "      <td>1.082119e+07</td>\n",
       "      <td>141.034393</td>\n",
       "    </tr>\n",
       "    <tr>\n",
       "      <th>2</th>\n",
       "      <td>Campinas</td>\n",
       "      <td>455075.78</td>\n",
       "      <td>2691.0</td>\n",
       "      <td>3024.0</td>\n",
       "      <td>12.01</td>\n",
       "      <td>323.1891</td>\n",
       "      <td>9.773238e+05</td>\n",
       "      <td>114.760680</td>\n",
       "    </tr>\n",
       "    <tr>\n",
       "      <th>4</th>\n",
       "      <td>Florianopolis</td>\n",
       "      <td>360500.06</td>\n",
       "      <td>3310.0</td>\n",
       "      <td>2554.0</td>\n",
       "      <td>3.80</td>\n",
       "      <td>125.7800</td>\n",
       "      <td>3.212421e+05</td>\n",
       "      <td>-10.889857</td>\n",
       "    </tr>\n",
       "    <tr>\n",
       "      <th>1</th>\n",
       "      <td>Brasilia</td>\n",
       "      <td>608111.59</td>\n",
       "      <td>3718.0</td>\n",
       "      <td>1714.0</td>\n",
       "      <td>7.99</td>\n",
       "      <td>297.0682</td>\n",
       "      <td>5.091749e+05</td>\n",
       "      <td>-16.269497</td>\n",
       "    </tr>\n",
       "    <tr>\n",
       "      <th>5</th>\n",
       "      <td>Goiania</td>\n",
       "      <td>435077.92</td>\n",
       "      <td>2916.0</td>\n",
       "      <td>1941.0</td>\n",
       "      <td>6.11</td>\n",
       "      <td>178.1676</td>\n",
       "      <td>3.458233e+05</td>\n",
       "      <td>-20.514626</td>\n",
       "    </tr>\n",
       "    <tr>\n",
       "      <th>6</th>\n",
       "      <td>Porto Alegre</td>\n",
       "      <td>1866590.25</td>\n",
       "      <td>5320.0</td>\n",
       "      <td>2155.0</td>\n",
       "      <td>11.87</td>\n",
       "      <td>631.4840</td>\n",
       "      <td>1.360848e+06</td>\n",
       "      <td>-27.094443</td>\n",
       "    </tr>\n",
       "    <tr>\n",
       "      <th>3</th>\n",
       "      <td>Curitiba</td>\n",
       "      <td>738854.97</td>\n",
       "      <td>3778.0</td>\n",
       "      <td>1914.0</td>\n",
       "      <td>7.09</td>\n",
       "      <td>267.8602</td>\n",
       "      <td>5.126844e+05</td>\n",
       "      <td>-30.610953</td>\n",
       "    </tr>\n",
       "  </tbody>\n",
       "</table>\n",
       "</div>"
      ],
      "text/plain": [
       "       city_group  daily_cost  qualifieds  ticket_medio  \\\n",
       "8       Sao Paulo  5939676.80     62156.0        3671.0   \n",
       "0  Belo Horizonte   560335.83      8285.0        2623.0   \n",
       "7  Rio de Janeiro  4489481.55     29039.0        3499.0   \n",
       "2        Campinas   455075.78      2691.0        3024.0   \n",
       "4   Florianopolis   360500.06      3310.0        2554.0   \n",
       "1        Brasilia   608111.59      3718.0        1714.0   \n",
       "5         Goiania   435077.92      2916.0        1941.0   \n",
       "6    Porto Alegre  1866590.25      5320.0        2155.0   \n",
       "3        Curitiba   738854.97      3778.0        1914.0   \n",
       "\n",
       "   tenant_prospect_to_contract_signed  Total_contratos_estimado  \\\n",
       "8                               13.81                 8583.7436   \n",
       "0                                8.38                  694.2830   \n",
       "7                               10.65                 3092.6535   \n",
       "2                               12.01                  323.1891   \n",
       "4                                3.80                  125.7800   \n",
       "1                                7.99                  297.0682   \n",
       "5                                6.11                  178.1676   \n",
       "6                               11.87                  631.4840   \n",
       "3                                7.09                  267.8602   \n",
       "\n",
       "   Retorno_esperado         ROI  \n",
       "8      3.151092e+07  430.515781  \n",
       "0      1.821104e+06  225.002295  \n",
       "7      1.082119e+07  141.034393  \n",
       "2      9.773238e+05  114.760680  \n",
       "4      3.212421e+05  -10.889857  \n",
       "1      5.091749e+05  -16.269497  \n",
       "5      3.458233e+05  -20.514626  \n",
       "6      1.360848e+06  -27.094443  \n",
       "3      5.126844e+05  -30.610953  "
      ]
     },
     "execution_count": 53,
     "metadata": {},
     "output_type": "execute_result"
    }
   ],
   "source": [
    "metricas_ops_final.sort_values(by='ROI', ascending=False)"
   ]
  },
  {
   "cell_type": "code",
   "execution_count": 56,
   "metadata": {},
   "outputs": [
    {
     "name": "stderr",
     "output_type": "stream",
     "text": [
      "C:\\Users\\iulih\\AppData\\Local\\Temp\\ipykernel_23328\\272738879.py:1: SettingWithCopyWarning: \n",
      "A value is trying to be set on a copy of a slice from a DataFrame.\n",
      "Try using .loc[row_indexer,col_indexer] = value instead\n",
      "\n",
      "See the caveats in the documentation: https://pandas.pydata.org/pandas-docs/stable/user_guide/indexing.html#returning-a-view-versus-a-copy\n",
      "  metricas_ops_final['CAC'] =metricas_ops_final['daily_cost'] /metricas_ops_final['qualifieds']\n"
     ]
    }
   ],
   "source": [
    "metricas_ops_final['CAC'] =metricas_ops_final['daily_cost'] /metricas_ops_final['qualifieds'] "
   ]
  },
  {
   "cell_type": "markdown",
   "metadata": {},
   "source": [
    "### Resultado final:"
   ]
  },
  {
   "cell_type": "code",
   "execution_count": 58,
   "metadata": {},
   "outputs": [
    {
     "data": {
      "text/html": [
       "<div>\n",
       "<style scoped>\n",
       "    .dataframe tbody tr th:only-of-type {\n",
       "        vertical-align: middle;\n",
       "    }\n",
       "\n",
       "    .dataframe tbody tr th {\n",
       "        vertical-align: top;\n",
       "    }\n",
       "\n",
       "    .dataframe thead th {\n",
       "        text-align: right;\n",
       "    }\n",
       "</style>\n",
       "<table border=\"1\" class=\"dataframe\">\n",
       "  <thead>\n",
       "    <tr style=\"text-align: right;\">\n",
       "      <th></th>\n",
       "      <th>city_group</th>\n",
       "      <th>daily_cost</th>\n",
       "      <th>qualifieds</th>\n",
       "      <th>ticket_medio</th>\n",
       "      <th>tenant_prospect_to_contract_signed</th>\n",
       "      <th>Total_contratos_estimado</th>\n",
       "      <th>Retorno_esperado</th>\n",
       "      <th>ROI</th>\n",
       "      <th>CAC</th>\n",
       "    </tr>\n",
       "  </thead>\n",
       "  <tbody>\n",
       "    <tr>\n",
       "      <th>6</th>\n",
       "      <td>Porto Alegre</td>\n",
       "      <td>1866590.25</td>\n",
       "      <td>5320.0</td>\n",
       "      <td>2155.0</td>\n",
       "      <td>11.87</td>\n",
       "      <td>631.4840</td>\n",
       "      <td>1.360848e+06</td>\n",
       "      <td>-27.094443</td>\n",
       "      <td>350.862829</td>\n",
       "    </tr>\n",
       "    <tr>\n",
       "      <th>3</th>\n",
       "      <td>Curitiba</td>\n",
       "      <td>738854.97</td>\n",
       "      <td>3778.0</td>\n",
       "      <td>1914.0</td>\n",
       "      <td>7.09</td>\n",
       "      <td>267.8602</td>\n",
       "      <td>5.126844e+05</td>\n",
       "      <td>-30.610953</td>\n",
       "      <td>195.567753</td>\n",
       "    </tr>\n",
       "    <tr>\n",
       "      <th>2</th>\n",
       "      <td>Campinas</td>\n",
       "      <td>455075.78</td>\n",
       "      <td>2691.0</td>\n",
       "      <td>3024.0</td>\n",
       "      <td>12.01</td>\n",
       "      <td>323.1891</td>\n",
       "      <td>9.773238e+05</td>\n",
       "      <td>114.760680</td>\n",
       "      <td>169.110286</td>\n",
       "    </tr>\n",
       "    <tr>\n",
       "      <th>1</th>\n",
       "      <td>Brasilia</td>\n",
       "      <td>608111.59</td>\n",
       "      <td>3718.0</td>\n",
       "      <td>1714.0</td>\n",
       "      <td>7.99</td>\n",
       "      <td>297.0682</td>\n",
       "      <td>5.091749e+05</td>\n",
       "      <td>-16.269497</td>\n",
       "      <td>163.558792</td>\n",
       "    </tr>\n",
       "    <tr>\n",
       "      <th>7</th>\n",
       "      <td>Rio de Janeiro</td>\n",
       "      <td>4489481.55</td>\n",
       "      <td>29039.0</td>\n",
       "      <td>3499.0</td>\n",
       "      <td>10.65</td>\n",
       "      <td>3092.6535</td>\n",
       "      <td>1.082119e+07</td>\n",
       "      <td>141.034393</td>\n",
       "      <td>154.601796</td>\n",
       "    </tr>\n",
       "    <tr>\n",
       "      <th>5</th>\n",
       "      <td>Goiania</td>\n",
       "      <td>435077.92</td>\n",
       "      <td>2916.0</td>\n",
       "      <td>1941.0</td>\n",
       "      <td>6.11</td>\n",
       "      <td>178.1676</td>\n",
       "      <td>3.458233e+05</td>\n",
       "      <td>-20.514626</td>\n",
       "      <td>149.203676</td>\n",
       "    </tr>\n",
       "    <tr>\n",
       "      <th>4</th>\n",
       "      <td>Florianopolis</td>\n",
       "      <td>360500.06</td>\n",
       "      <td>3310.0</td>\n",
       "      <td>2554.0</td>\n",
       "      <td>3.80</td>\n",
       "      <td>125.7800</td>\n",
       "      <td>3.212421e+05</td>\n",
       "      <td>-10.889857</td>\n",
       "      <td>108.912405</td>\n",
       "    </tr>\n",
       "    <tr>\n",
       "      <th>8</th>\n",
       "      <td>Sao Paulo</td>\n",
       "      <td>5939676.80</td>\n",
       "      <td>62156.0</td>\n",
       "      <td>3671.0</td>\n",
       "      <td>13.81</td>\n",
       "      <td>8583.7436</td>\n",
       "      <td>3.151092e+07</td>\n",
       "      <td>430.515781</td>\n",
       "      <td>95.560795</td>\n",
       "    </tr>\n",
       "    <tr>\n",
       "      <th>0</th>\n",
       "      <td>Belo Horizonte</td>\n",
       "      <td>560335.83</td>\n",
       "      <td>8285.0</td>\n",
       "      <td>2623.0</td>\n",
       "      <td>8.38</td>\n",
       "      <td>694.2830</td>\n",
       "      <td>1.821104e+06</td>\n",
       "      <td>225.002295</td>\n",
       "      <td>67.632568</td>\n",
       "    </tr>\n",
       "  </tbody>\n",
       "</table>\n",
       "</div>"
      ],
      "text/plain": [
       "       city_group  daily_cost  qualifieds  ticket_medio  \\\n",
       "6    Porto Alegre  1866590.25      5320.0        2155.0   \n",
       "3        Curitiba   738854.97      3778.0        1914.0   \n",
       "2        Campinas   455075.78      2691.0        3024.0   \n",
       "1        Brasilia   608111.59      3718.0        1714.0   \n",
       "7  Rio de Janeiro  4489481.55     29039.0        3499.0   \n",
       "5         Goiania   435077.92      2916.0        1941.0   \n",
       "4   Florianopolis   360500.06      3310.0        2554.0   \n",
       "8       Sao Paulo  5939676.80     62156.0        3671.0   \n",
       "0  Belo Horizonte   560335.83      8285.0        2623.0   \n",
       "\n",
       "   tenant_prospect_to_contract_signed  Total_contratos_estimado  \\\n",
       "6                               11.87                  631.4840   \n",
       "3                                7.09                  267.8602   \n",
       "2                               12.01                  323.1891   \n",
       "1                                7.99                  297.0682   \n",
       "7                               10.65                 3092.6535   \n",
       "5                                6.11                  178.1676   \n",
       "4                                3.80                  125.7800   \n",
       "8                               13.81                 8583.7436   \n",
       "0                                8.38                  694.2830   \n",
       "\n",
       "   Retorno_esperado         ROI         CAC  \n",
       "6      1.360848e+06  -27.094443  350.862829  \n",
       "3      5.126844e+05  -30.610953  195.567753  \n",
       "2      9.773238e+05  114.760680  169.110286  \n",
       "1      5.091749e+05  -16.269497  163.558792  \n",
       "7      1.082119e+07  141.034393  154.601796  \n",
       "5      3.458233e+05  -20.514626  149.203676  \n",
       "4      3.212421e+05  -10.889857  108.912405  \n",
       "8      3.151092e+07  430.515781   95.560795  \n",
       "0      1.821104e+06  225.002295   67.632568  "
      ]
     },
     "execution_count": 58,
     "metadata": {},
     "output_type": "execute_result"
    }
   ],
   "source": [
    "metricas_ops_final.sort_values(by='CAC', ascending=False)"
   ]
  },
  {
   "cell_type": "markdown",
   "metadata": {},
   "source": [
    "----"
   ]
  },
  {
   "cell_type": "markdown",
   "metadata": {},
   "source": [
    "## Regressão para identificar o custo por lead de cada Canal de comunicação"
   ]
  },
  {
   "cell_type": "code",
   "execution_count": 79,
   "metadata": {},
   "outputs": [],
   "source": [
    "import pandas as pd\n",
    "import statsmodels.api as sm\n",
    "\n",
    "merged_df = pd.merge(leads_gerados,media_custo, left_on=['dt_event', 'city_group'], right_on=['dt_insertion_order', 'city_group'], how='inner')"
   ]
  },
  {
   "cell_type": "code",
   "execution_count": 80,
   "metadata": {},
   "outputs": [],
   "source": [
    "# Criar variáveis dummy para o tipo de mídia\n",
    "merged_df = pd.get_dummies(merged_df, columns=['media'], prefix='media')"
   ]
  },
  {
   "cell_type": "markdown",
   "metadata": {},
   "source": [
    "Transformando em algebra linear:"
   ]
  },
  {
   "cell_type": "code",
   "execution_count": 81,
   "metadata": {},
   "outputs": [
    {
     "data": {
      "text/html": [
       "<div>\n",
       "<style scoped>\n",
       "    .dataframe tbody tr th:only-of-type {\n",
       "        vertical-align: middle;\n",
       "    }\n",
       "\n",
       "    .dataframe tbody tr th {\n",
       "        vertical-align: top;\n",
       "    }\n",
       "\n",
       "    .dataframe thead th {\n",
       "        text-align: right;\n",
       "    }\n",
       "</style>\n",
       "<table border=\"1\" class=\"dataframe\">\n",
       "  <thead>\n",
       "    <tr style=\"text-align: right;\">\n",
       "      <th></th>\n",
       "      <th>dt_event</th>\n",
       "      <th>city_group</th>\n",
       "      <th>leads_5a</th>\n",
       "      <th>discards</th>\n",
       "      <th>qualifieds</th>\n",
       "      <th>first_listing</th>\n",
       "      <th>dt_insertion_order</th>\n",
       "      <th>daily_cost</th>\n",
       "      <th>media_JORNAL</th>\n",
       "      <th>media_OUT OF HOME</th>\n",
       "      <th>media_RÁDIO</th>\n",
       "      <th>media_TV ABERTA</th>\n",
       "    </tr>\n",
       "  </thead>\n",
       "  <tbody>\n",
       "    <tr>\n",
       "      <th>614</th>\n",
       "      <td>2021-04-29</td>\n",
       "      <td>Porto Alegre</td>\n",
       "      <td>922</td>\n",
       "      <td>265</td>\n",
       "      <td>86</td>\n",
       "      <td>47</td>\n",
       "      <td>2021-04-29</td>\n",
       "      <td>3020.44</td>\n",
       "      <td>False</td>\n",
       "      <td>False</td>\n",
       "      <td>True</td>\n",
       "      <td>False</td>\n",
       "    </tr>\n",
       "    <tr>\n",
       "      <th>815</th>\n",
       "      <td>2021-05-13</td>\n",
       "      <td>Sao Paulo</td>\n",
       "      <td>11616</td>\n",
       "      <td>3</td>\n",
       "      <td>850</td>\n",
       "      <td>725</td>\n",
       "      <td>2021-05-13</td>\n",
       "      <td>5104.52</td>\n",
       "      <td>False</td>\n",
       "      <td>False</td>\n",
       "      <td>True</td>\n",
       "      <td>False</td>\n",
       "    </tr>\n",
       "    <tr>\n",
       "      <th>325</th>\n",
       "      <td>2021-04-02</td>\n",
       "      <td>Rio de Janeiro</td>\n",
       "      <td>4742</td>\n",
       "      <td>863</td>\n",
       "      <td>97</td>\n",
       "      <td>190</td>\n",
       "      <td>2021-04-02</td>\n",
       "      <td>6527.11</td>\n",
       "      <td>False</td>\n",
       "      <td>True</td>\n",
       "      <td>False</td>\n",
       "      <td>False</td>\n",
       "    </tr>\n",
       "  </tbody>\n",
       "</table>\n",
       "</div>"
      ],
      "text/plain": [
       "       dt_event      city_group  leads_5a  discards  qualifieds  \\\n",
       "614  2021-04-29    Porto Alegre       922       265          86   \n",
       "815  2021-05-13       Sao Paulo     11616         3         850   \n",
       "325  2021-04-02  Rio de Janeiro      4742       863          97   \n",
       "\n",
       "     first_listing dt_insertion_order  daily_cost  media_JORNAL  \\\n",
       "614             47         2021-04-29     3020.44         False   \n",
       "815            725         2021-05-13     5104.52         False   \n",
       "325            190         2021-04-02     6527.11         False   \n",
       "\n",
       "     media_OUT OF HOME  media_RÁDIO  media_TV ABERTA  \n",
       "614              False         True            False  \n",
       "815              False         True            False  \n",
       "325               True        False            False  "
      ]
     },
     "execution_count": 81,
     "metadata": {},
     "output_type": "execute_result"
    }
   ],
   "source": [
    "merged_df.sample(3)"
   ]
  },
  {
   "cell_type": "code",
   "execution_count": 82,
   "metadata": {},
   "outputs": [],
   "source": [
    "# Definir as variáveis independentes (X) e a variável dependente (y)\n",
    "X = merged_df[['daily_cost', 'media_RÁDIO', 'media_TV ABERTA','media_JORNAL', 'media_OUT OF HOME']]\n",
    "y = merged_df['qualifieds']\n"
   ]
  },
  {
   "cell_type": "code",
   "execution_count": 84,
   "metadata": {},
   "outputs": [],
   "source": [
    "results = sm.OLS(y,X*1).fit() #X*1 tranforma True e False em 1 e 0"
   ]
  },
  {
   "cell_type": "markdown",
   "metadata": {},
   "source": [
    "Resultado final os parametros desejados:"
   ]
  },
  {
   "cell_type": "code",
   "execution_count": 85,
   "metadata": {},
   "outputs": [
    {
     "data": {
      "text/plain": [
       "daily_cost             0.003306\n",
       "media_RÁDIO          273.817210\n",
       "media_TV ABERTA      192.264561\n",
       "media_JORNAL         147.705206\n",
       "media_OUT OF HOME    234.889117\n",
       "dtype: float64"
      ]
     },
     "execution_count": 85,
     "metadata": {},
     "output_type": "execute_result"
    }
   ],
   "source": [
    "results.params"
   ]
  },
  {
   "cell_type": "markdown",
   "metadata": {},
   "source": [
    "Avaliação de cada variavel para identificar o P valor:"
   ]
  },
  {
   "cell_type": "code",
   "execution_count": 86,
   "metadata": {},
   "outputs": [
    {
     "data": {
      "text/html": [
       "<table class=\"simpletable\">\n",
       "<caption>OLS Regression Results</caption>\n",
       "<tr>\n",
       "  <th>Dep. Variable:</th>       <td>qualifieds</td>    <th>  R-squared:         </th> <td>   0.104</td> \n",
       "</tr>\n",
       "<tr>\n",
       "  <th>Model:</th>                   <td>OLS</td>       <th>  Adj. R-squared:    </th> <td>   0.100</td> \n",
       "</tr>\n",
       "<tr>\n",
       "  <th>Method:</th>             <td>Least Squares</td>  <th>  F-statistic:       </th> <td>   28.22</td> \n",
       "</tr>\n",
       "<tr>\n",
       "  <th>Date:</th>             <td>Wed, 27 Dec 2023</td> <th>  Prob (F-statistic):</th> <td>3.36e-22</td> \n",
       "</tr>\n",
       "<tr>\n",
       "  <th>Time:</th>                 <td>10:08:06</td>     <th>  Log-Likelihood:    </th> <td> -6929.6</td> \n",
       "</tr>\n",
       "<tr>\n",
       "  <th>No. Observations:</th>      <td>   976</td>      <th>  AIC:               </th> <td>1.387e+04</td>\n",
       "</tr>\n",
       "<tr>\n",
       "  <th>Df Residuals:</th>          <td>   971</td>      <th>  BIC:               </th> <td>1.389e+04</td>\n",
       "</tr>\n",
       "<tr>\n",
       "  <th>Df Model:</th>              <td>     4</td>      <th>                     </th>     <td> </td>    \n",
       "</tr>\n",
       "<tr>\n",
       "  <th>Covariance Type:</th>      <td>nonrobust</td>    <th>                     </th>     <td> </td>    \n",
       "</tr>\n",
       "</table>\n",
       "<table class=\"simpletable\">\n",
       "<tr>\n",
       "          <td></td>             <th>coef</th>     <th>std err</th>      <th>t</th>      <th>P>|t|</th>  <th>[0.025</th>    <th>0.975]</th>  \n",
       "</tr>\n",
       "<tr>\n",
       "  <th>daily_cost</th>        <td>    0.0033</td> <td>    0.000</td> <td>   10.502</td> <td> 0.000</td> <td>    0.003</td> <td>    0.004</td>\n",
       "</tr>\n",
       "<tr>\n",
       "  <th>media_RÁDIO</th>       <td>  273.8172</td> <td>   17.927</td> <td>   15.274</td> <td> 0.000</td> <td>  238.637</td> <td>  308.997</td>\n",
       "</tr>\n",
       "<tr>\n",
       "  <th>media_TV ABERTA</th>   <td>  192.2646</td> <td>   16.464</td> <td>   11.678</td> <td> 0.000</td> <td>  159.956</td> <td>  224.573</td>\n",
       "</tr>\n",
       "<tr>\n",
       "  <th>media_JORNAL</th>      <td>  147.7052</td> <td>  120.186</td> <td>    1.229</td> <td> 0.219</td> <td>  -88.149</td> <td>  383.559</td>\n",
       "</tr>\n",
       "<tr>\n",
       "  <th>media_OUT OF HOME</th> <td>  234.8891</td> <td>   17.421</td> <td>   13.483</td> <td> 0.000</td> <td>  200.702</td> <td>  269.077</td>\n",
       "</tr>\n",
       "</table>\n",
       "<table class=\"simpletable\">\n",
       "<tr>\n",
       "  <th>Omnibus:</th>       <td>213.646</td> <th>  Durbin-Watson:     </th> <td>   0.672</td>\n",
       "</tr>\n",
       "<tr>\n",
       "  <th>Prob(Omnibus):</th> <td> 0.000</td>  <th>  Jarque-Bera (JB):  </th> <td> 369.232</td>\n",
       "</tr>\n",
       "<tr>\n",
       "  <th>Skew:</th>          <td> 1.400</td>  <th>  Prob(JB):          </th> <td>6.64e-81</td>\n",
       "</tr>\n",
       "<tr>\n",
       "  <th>Kurtosis:</th>      <td> 4.111</td>  <th>  Cond. No.          </th> <td>4.38e+05</td>\n",
       "</tr>\n",
       "</table><br/><br/>Notes:<br/>[1] Standard Errors assume that the covariance matrix of the errors is correctly specified.<br/>[2] The condition number is large, 4.38e+05. This might indicate that there are<br/>strong multicollinearity or other numerical problems."
      ],
      "text/plain": [
       "<class 'statsmodels.iolib.summary.Summary'>\n",
       "\"\"\"\n",
       "                            OLS Regression Results                            \n",
       "==============================================================================\n",
       "Dep. Variable:             qualifieds   R-squared:                       0.104\n",
       "Model:                            OLS   Adj. R-squared:                  0.100\n",
       "Method:                 Least Squares   F-statistic:                     28.22\n",
       "Date:                Wed, 27 Dec 2023   Prob (F-statistic):           3.36e-22\n",
       "Time:                        10:08:06   Log-Likelihood:                -6929.6\n",
       "No. Observations:                 976   AIC:                         1.387e+04\n",
       "Df Residuals:                     971   BIC:                         1.389e+04\n",
       "Df Model:                           4                                         \n",
       "Covariance Type:            nonrobust                                         \n",
       "=====================================================================================\n",
       "                        coef    std err          t      P>|t|      [0.025      0.975]\n",
       "-------------------------------------------------------------------------------------\n",
       "daily_cost            0.0033      0.000     10.502      0.000       0.003       0.004\n",
       "media_RÁDIO         273.8172     17.927     15.274      0.000     238.637     308.997\n",
       "media_TV ABERTA     192.2646     16.464     11.678      0.000     159.956     224.573\n",
       "media_JORNAL        147.7052    120.186      1.229      0.219     -88.149     383.559\n",
       "media_OUT OF HOME   234.8891     17.421     13.483      0.000     200.702     269.077\n",
       "==============================================================================\n",
       "Omnibus:                      213.646   Durbin-Watson:                   0.672\n",
       "Prob(Omnibus):                  0.000   Jarque-Bera (JB):              369.232\n",
       "Skew:                           1.400   Prob(JB):                     6.64e-81\n",
       "Kurtosis:                       4.111   Cond. No.                     4.38e+05\n",
       "==============================================================================\n",
       "\n",
       "Notes:\n",
       "[1] Standard Errors assume that the covariance matrix of the errors is correctly specified.\n",
       "[2] The condition number is large, 4.38e+05. This might indicate that there are\n",
       "strong multicollinearity or other numerical problems.\n",
       "\"\"\""
      ]
     },
     "execution_count": 86,
     "metadata": {},
     "output_type": "execute_result"
    }
   ],
   "source": [
    "results.summary()"
   ]
  },
  {
   "cell_type": "markdown",
   "metadata": {},
   "source": [
    "media_JORNAL esta estatisticamente invalido pois o P valor é maior que 0,05, sendo igual a 0,219. Para os outras são validadas."
   ]
  },
  {
   "cell_type": "markdown",
   "metadata": {},
   "source": []
  }
 ],
 "metadata": {
  "kernelspec": {
   "display_name": "IA_python",
   "language": "python",
   "name": "python3"
  },
  "language_info": {
   "codemirror_mode": {
    "name": "ipython",
    "version": 3
   },
   "file_extension": ".py",
   "mimetype": "text/x-python",
   "name": "python",
   "nbconvert_exporter": "python",
   "pygments_lexer": "ipython3",
   "version": "3.9.15"
  }
 },
 "nbformat": 4,
 "nbformat_minor": 2
}
